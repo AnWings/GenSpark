{
 "cells": [
  {
   "cell_type": "code",
   "execution_count": 1,
   "id": "15f468f0",
   "metadata": {
    "_cell_guid": "b1076dfc-b9ad-4769-8c92-a6c4dae69d19",
    "_uuid": "8f2839f25d086af736a60e9eeb907d3b93b6e0e5",
    "execution": {
     "iopub.execute_input": "2025-02-10T20:12:03.678902Z",
     "iopub.status.busy": "2025-02-10T20:12:03.678503Z",
     "iopub.status.idle": "2025-02-10T20:12:20.619097Z",
     "shell.execute_reply": "2025-02-10T20:12:20.618126Z"
    },
    "papermill": {
     "duration": 16.946571,
     "end_time": "2025-02-10T20:12:20.620967",
     "exception": false,
     "start_time": "2025-02-10T20:12:03.674396",
     "status": "completed"
    },
    "tags": []
   },
   "outputs": [],
   "source": [
    "import tensorflow as tf\n",
    "from tensorflow.keras.models import Sequential\n",
    "from tensorflow.keras.layers import Dense, Flatten\n",
    "from tensorflow.keras.datasets import mnist\n",
    "from tensorflow.keras.utils import to_categorical"
   ]
  },
  {
   "cell_type": "code",
   "execution_count": 2,
   "id": "eb2356eb",
   "metadata": {
    "execution": {
     "iopub.execute_input": "2025-02-10T20:12:20.627341Z",
     "iopub.status.busy": "2025-02-10T20:12:20.626723Z",
     "iopub.status.idle": "2025-02-10T20:12:23.582466Z",
     "shell.execute_reply": "2025-02-10T20:12:23.581102Z"
    },
    "papermill": {
     "duration": 2.960948,
     "end_time": "2025-02-10T20:12:23.584651",
     "exception": false,
     "start_time": "2025-02-10T20:12:20.623703",
     "status": "completed"
    },
    "tags": []
   },
   "outputs": [
    {
     "name": "stdout",
     "output_type": "stream",
     "text": [
      "Downloading data from https://storage.googleapis.com/tensorflow/tf-keras-datasets/mnist.npz\n",
      "\u001b[1m11490434/11490434\u001b[0m \u001b[32m━━━━━━━━━━━━━━━━━━━━\u001b[0m\u001b[37m\u001b[0m \u001b[1m2s\u001b[0m 0us/step\n"
     ]
    }
   ],
   "source": [
    "# Load the dataset\n",
    "(x_train, y_train), (x_test, y_test) = mnist.load_data()"
   ]
  },
  {
   "cell_type": "code",
   "execution_count": 3,
   "id": "fd8bc110",
   "metadata": {
    "execution": {
     "iopub.execute_input": "2025-02-10T20:12:23.594063Z",
     "iopub.status.busy": "2025-02-10T20:12:23.593689Z",
     "iopub.status.idle": "2025-02-10T20:12:23.826691Z",
     "shell.execute_reply": "2025-02-10T20:12:23.825621Z"
    },
    "papermill": {
     "duration": 0.239992,
     "end_time": "2025-02-10T20:12:23.828913",
     "exception": false,
     "start_time": "2025-02-10T20:12:23.588921",
     "status": "completed"
    },
    "tags": []
   },
   "outputs": [],
   "source": [
    "# Normalize the images to a scale of 0-1\n",
    "x_train = x_train / 255.0\n",
    "x_test = x_test / 255.0\n",
    "\n",
    "# Convert labels to one-hot encoding\n",
    "y_train = to_categorical(y_train, 10)\n",
    "y_test = to_categorical(y_test, 10)"
   ]
  },
  {
   "cell_type": "code",
   "execution_count": 4,
   "id": "fed27f1f",
   "metadata": {
    "execution": {
     "iopub.execute_input": "2025-02-10T20:12:23.838104Z",
     "iopub.status.busy": "2025-02-10T20:12:23.837766Z",
     "iopub.status.idle": "2025-02-10T20:12:23.929056Z",
     "shell.execute_reply": "2025-02-10T20:12:23.927708Z"
    },
    "papermill": {
     "duration": 0.097683,
     "end_time": "2025-02-10T20:12:23.930713",
     "exception": false,
     "start_time": "2025-02-10T20:12:23.833030",
     "status": "completed"
    },
    "tags": []
   },
   "outputs": [
    {
     "name": "stderr",
     "output_type": "stream",
     "text": [
      "/usr/local/lib/python3.10/dist-packages/keras/src/layers/reshaping/flatten.py:37: UserWarning: Do not pass an `input_shape`/`input_dim` argument to a layer. When using Sequential models, prefer using an `Input(shape)` object as the first layer in the model instead.\n",
      "  super().__init__(**kwargs)\n"
     ]
    }
   ],
   "source": [
    "model = Sequential([\n",
    "Flatten(input_shape=(28, 28)), # Flatten the 2D images into a 1D vector\n",
    "Dense(128, activation='relu'), # Hidden layer with 128 neurons\n",
    "Dense(64, activation='relu'), # Hidden layer with 64 neurons\n",
    "Dense(10, activation='softmax') # Output layer with 10 neurons (one for each digit)\n",
    "])"
   ]
  },
  {
   "cell_type": "code",
   "execution_count": 5,
   "id": "5c163228",
   "metadata": {
    "execution": {
     "iopub.execute_input": "2025-02-10T20:12:23.940364Z",
     "iopub.status.busy": "2025-02-10T20:12:23.940013Z",
     "iopub.status.idle": "2025-02-10T20:12:23.952784Z",
     "shell.execute_reply": "2025-02-10T20:12:23.951796Z"
    },
    "papermill": {
     "duration": 0.019778,
     "end_time": "2025-02-10T20:12:23.954538",
     "exception": false,
     "start_time": "2025-02-10T20:12:23.934760",
     "status": "completed"
    },
    "tags": []
   },
   "outputs": [],
   "source": [
    "model.compile(optimizer='adam', \n",
    "              loss='categorical_crossentropy', \n",
    "              metrics=['accuracy'])"
   ]
  },
  {
   "cell_type": "code",
   "execution_count": 6,
   "id": "50434b9f",
   "metadata": {
    "execution": {
     "iopub.execute_input": "2025-02-10T20:12:23.963536Z",
     "iopub.status.busy": "2025-02-10T20:12:23.963215Z",
     "iopub.status.idle": "2025-02-10T20:13:06.610540Z",
     "shell.execute_reply": "2025-02-10T20:13:06.609481Z"
    },
    "papermill": {
     "duration": 42.653842,
     "end_time": "2025-02-10T20:13:06.612348",
     "exception": false,
     "start_time": "2025-02-10T20:12:23.958506",
     "status": "completed"
    },
    "tags": []
   },
   "outputs": [
    {
     "name": "stdout",
     "output_type": "stream",
     "text": [
      "Epoch 1/10\n",
      "\u001b[1m1500/1500\u001b[0m \u001b[32m━━━━━━━━━━━━━━━━━━━━\u001b[0m\u001b[37m\u001b[0m \u001b[1m5s\u001b[0m 3ms/step - accuracy: 0.8626 - loss: 0.4707 - val_accuracy: 0.9587 - val_loss: 0.1349\n",
      "Epoch 2/10\n",
      "\u001b[1m1500/1500\u001b[0m \u001b[32m━━━━━━━━━━━━━━━━━━━━\u001b[0m\u001b[37m\u001b[0m \u001b[1m4s\u001b[0m 3ms/step - accuracy: 0.9643 - loss: 0.1180 - val_accuracy: 0.9624 - val_loss: 0.1200\n",
      "Epoch 3/10\n",
      "\u001b[1m1500/1500\u001b[0m \u001b[32m━━━━━━━━━━━━━━━━━━━━\u001b[0m\u001b[37m\u001b[0m \u001b[1m4s\u001b[0m 3ms/step - accuracy: 0.9781 - loss: 0.0741 - val_accuracy: 0.9709 - val_loss: 0.0984\n",
      "Epoch 4/10\n",
      "\u001b[1m1500/1500\u001b[0m \u001b[32m━━━━━━━━━━━━━━━━━━━━\u001b[0m\u001b[37m\u001b[0m \u001b[1m4s\u001b[0m 3ms/step - accuracy: 0.9831 - loss: 0.0538 - val_accuracy: 0.9676 - val_loss: 0.1221\n",
      "Epoch 5/10\n",
      "\u001b[1m1500/1500\u001b[0m \u001b[32m━━━━━━━━━━━━━━━━━━━━\u001b[0m\u001b[37m\u001b[0m \u001b[1m4s\u001b[0m 3ms/step - accuracy: 0.9873 - loss: 0.0401 - val_accuracy: 0.9703 - val_loss: 0.1115\n",
      "Epoch 6/10\n",
      "\u001b[1m1500/1500\u001b[0m \u001b[32m━━━━━━━━━━━━━━━━━━━━\u001b[0m\u001b[37m\u001b[0m \u001b[1m4s\u001b[0m 3ms/step - accuracy: 0.9898 - loss: 0.0325 - val_accuracy: 0.9760 - val_loss: 0.0913\n",
      "Epoch 7/10\n",
      "\u001b[1m1500/1500\u001b[0m \u001b[32m━━━━━━━━━━━━━━━━━━━━\u001b[0m\u001b[37m\u001b[0m \u001b[1m4s\u001b[0m 3ms/step - accuracy: 0.9907 - loss: 0.0287 - val_accuracy: 0.9704 - val_loss: 0.1145\n",
      "Epoch 8/10\n",
      "\u001b[1m1500/1500\u001b[0m \u001b[32m━━━━━━━━━━━━━━━━━━━━\u001b[0m\u001b[37m\u001b[0m \u001b[1m4s\u001b[0m 3ms/step - accuracy: 0.9921 - loss: 0.0227 - val_accuracy: 0.9710 - val_loss: 0.1196\n",
      "Epoch 9/10\n",
      "\u001b[1m1500/1500\u001b[0m \u001b[32m━━━━━━━━━━━━━━━━━━━━\u001b[0m\u001b[37m\u001b[0m \u001b[1m4s\u001b[0m 3ms/step - accuracy: 0.9929 - loss: 0.0221 - val_accuracy: 0.9719 - val_loss: 0.1166\n",
      "Epoch 10/10\n",
      "\u001b[1m1500/1500\u001b[0m \u001b[32m━━━━━━━━━━━━━━━━━━━━\u001b[0m\u001b[37m\u001b[0m \u001b[1m4s\u001b[0m 3ms/step - accuracy: 0.9948 - loss: 0.0151 - val_accuracy: 0.9764 - val_loss: 0.1068\n"
     ]
    },
    {
     "data": {
      "text/plain": [
       "<keras.src.callbacks.history.History at 0x7c5d34693a90>"
      ]
     },
     "execution_count": 6,
     "metadata": {},
     "output_type": "execute_result"
    }
   ],
   "source": [
    "model.fit(x_train, y_train, epochs=10, batch_size=32, validation_split=0.2)"
   ]
  },
  {
   "cell_type": "code",
   "execution_count": 7,
   "id": "fcb778cf",
   "metadata": {
    "execution": {
     "iopub.execute_input": "2025-02-10T20:13:06.705403Z",
     "iopub.status.busy": "2025-02-10T20:13:06.705079Z",
     "iopub.status.idle": "2025-02-10T20:13:07.384750Z",
     "shell.execute_reply": "2025-02-10T20:13:07.383616Z"
    },
    "papermill": {
     "duration": 0.72722,
     "end_time": "2025-02-10T20:13:07.386472",
     "exception": false,
     "start_time": "2025-02-10T20:13:06.659252",
     "status": "completed"
    },
    "tags": []
   },
   "outputs": [
    {
     "name": "stdout",
     "output_type": "stream",
     "text": [
      "\u001b[1m313/313\u001b[0m \u001b[32m━━━━━━━━━━━━━━━━━━━━\u001b[0m\u001b[37m\u001b[0m \u001b[1m1s\u001b[0m 1ms/step - accuracy: 0.9759 - loss: 0.1004\n",
      "Test Accuracy: 97.91%\n"
     ]
    }
   ],
   "source": [
    "test_loss, test_accuracy = model.evaluate(x_test, y_test)\n",
    "print(f\"Test Accuracy: {test_accuracy * 100:.2f}%\")"
   ]
  }
 ],
 "metadata": {
  "kaggle": {
   "accelerator": "none",
   "dataSources": [],
   "dockerImageVersionId": 30886,
   "isGpuEnabled": false,
   "isInternetEnabled": true,
   "language": "python",
   "sourceType": "notebook"
  },
  "kernelspec": {
   "display_name": "Python 3",
   "language": "python",
   "name": "python3"
  },
  "language_info": {
   "codemirror_mode": {
    "name": "ipython",
    "version": 3
   },
   "file_extension": ".py",
   "mimetype": "text/x-python",
   "name": "python",
   "nbconvert_exporter": "python",
   "pygments_lexer": "ipython3",
   "version": "3.10.12"
  },
  "papermill": {
   "default_parameters": {},
   "duration": 68.037095,
   "end_time": "2025-02-10T20:13:08.954113",
   "environment_variables": {},
   "exception": null,
   "input_path": "__notebook__.ipynb",
   "output_path": "__notebook__.ipynb",
   "parameters": {},
   "start_time": "2025-02-10T20:12:00.917018",
   "version": "2.6.0"
  }
 },
 "nbformat": 4,
 "nbformat_minor": 5
}
