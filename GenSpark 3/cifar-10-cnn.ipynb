{
 "cells": [
  {
   "cell_type": "code",
   "execution_count": 1,
   "id": "11b0509b",
   "metadata": {
    "_cell_guid": "b1076dfc-b9ad-4769-8c92-a6c4dae69d19",
    "_uuid": "8f2839f25d086af736a60e9eeb907d3b93b6e0e5",
    "execution": {
     "iopub.execute_input": "2025-02-10T21:13:39.276359Z",
     "iopub.status.busy": "2025-02-10T21:13:39.275958Z",
     "iopub.status.idle": "2025-02-10T21:13:56.472208Z",
     "shell.execute_reply": "2025-02-10T21:13:56.470948Z"
    },
    "papermill": {
     "duration": 17.202464,
     "end_time": "2025-02-10T21:13:56.474098",
     "exception": false,
     "start_time": "2025-02-10T21:13:39.271634",
     "status": "completed"
    },
    "tags": []
   },
   "outputs": [],
   "source": [
    "import tensorflow as tf\n",
    "from tensorflow.keras.models import Sequential\n",
    "from tensorflow.keras.layers import Conv2D, MaxPooling2D, Flatten, Dense, Dropout\n",
    "from tensorflow.keras.datasets import cifar10\n",
    "from tensorflow.keras.utils import to_categorical"
   ]
  },
  {
   "cell_type": "code",
   "execution_count": 2,
   "id": "d110bb28",
   "metadata": {
    "execution": {
     "iopub.execute_input": "2025-02-10T21:13:56.482478Z",
     "iopub.status.busy": "2025-02-10T21:13:56.481738Z",
     "iopub.status.idle": "2025-02-10T21:14:05.467888Z",
     "shell.execute_reply": "2025-02-10T21:14:05.466924Z"
    },
    "papermill": {
     "duration": 8.992202,
     "end_time": "2025-02-10T21:14:05.469674",
     "exception": false,
     "start_time": "2025-02-10T21:13:56.477472",
     "status": "completed"
    },
    "tags": []
   },
   "outputs": [
    {
     "name": "stdout",
     "output_type": "stream",
     "text": [
      "Downloading data from https://www.cs.toronto.edu/~kriz/cifar-10-python.tar.gz\n",
      "\u001b[1m170498071/170498071\u001b[0m \u001b[32m━━━━━━━━━━━━━━━━━━━━\u001b[0m\u001b[37m\u001b[0m \u001b[1m6s\u001b[0m 0us/step\n"
     ]
    }
   ],
   "source": [
    "# Step 1: Load and Preprocess Data\n",
    "(x_train, y_train), (x_test, y_test) = cifar10.load_data()"
   ]
  },
  {
   "cell_type": "code",
   "execution_count": 3,
   "id": "988327f2",
   "metadata": {
    "execution": {
     "iopub.execute_input": "2025-02-10T21:14:05.485504Z",
     "iopub.status.busy": "2025-02-10T21:14:05.485138Z",
     "iopub.status.idle": "2025-02-10T21:14:06.333362Z",
     "shell.execute_reply": "2025-02-10T21:14:06.332367Z"
    },
    "papermill": {
     "duration": 0.858449,
     "end_time": "2025-02-10T21:14:06.335624",
     "exception": false,
     "start_time": "2025-02-10T21:14:05.477175",
     "status": "completed"
    },
    "tags": []
   },
   "outputs": [],
   "source": [
    "# Normalize pixel values to a range of 0-1\n",
    "x_train = x_train.astype('float') / 255.0\n",
    "x_test = x_test.astype('float') / 255.0"
   ]
  },
  {
   "cell_type": "code",
   "execution_count": 4,
   "id": "f684bd4b",
   "metadata": {
    "execution": {
     "iopub.execute_input": "2025-02-10T21:14:06.352483Z",
     "iopub.status.busy": "2025-02-10T21:14:06.352107Z",
     "iopub.status.idle": "2025-02-10T21:14:06.361798Z",
     "shell.execute_reply": "2025-02-10T21:14:06.360208Z"
    },
    "papermill": {
     "duration": 0.020295,
     "end_time": "2025-02-10T21:14:06.364483",
     "exception": false,
     "start_time": "2025-02-10T21:14:06.344188",
     "status": "completed"
    },
    "tags": []
   },
   "outputs": [],
   "source": [
    "# Convert labels to one-hot encoding\n",
    "y_train = to_categorical(y_train, 10)\n",
    "y_test = to_categorical(y_test, 10)"
   ]
  },
  {
   "cell_type": "code",
   "execution_count": 5,
   "id": "58df1eba",
   "metadata": {
    "execution": {
     "iopub.execute_input": "2025-02-10T21:14:06.380782Z",
     "iopub.status.busy": "2025-02-10T21:14:06.380400Z",
     "iopub.status.idle": "2025-02-10T21:14:06.512389Z",
     "shell.execute_reply": "2025-02-10T21:14:06.510996Z"
    },
    "papermill": {
     "duration": 0.142038,
     "end_time": "2025-02-10T21:14:06.514310",
     "exception": false,
     "start_time": "2025-02-10T21:14:06.372272",
     "status": "completed"
    },
    "tags": []
   },
   "outputs": [
    {
     "name": "stderr",
     "output_type": "stream",
     "text": [
      "/usr/local/lib/python3.10/dist-packages/keras/src/layers/convolutional/base_conv.py:107: UserWarning: Do not pass an `input_shape`/`input_dim` argument to a layer. When using Sequential models, prefer using an `Input(shape)` object as the first layer in the model instead.\n",
      "  super().__init__(activity_regularizer=activity_regularizer, **kwargs)\n"
     ]
    }
   ],
   "source": [
    "# Step 2: Define the CNN Model\n",
    "model = Sequential([\n",
    "    # First convolutional block\n",
    "    Conv2D(32, (3, 3), activation='relu', input_shape=(32, 32, 3)),\n",
    "    MaxPooling2D(pool_size=(2, 2)),\n",
    "\n",
    "    # Second convolutional block\n",
    "    Conv2D(64, (3, 3), activation='relu'),\n",
    "    MaxPooling2D(pool_size=(2, 2)),\n",
    "\n",
    "    # Third convolutional block\n",
    "    Conv2D(128, (3, 3), activation='relu'),\n",
    "    MaxPooling2D(pool_size=(2, 2)),\n",
    "\n",
    "    # Fully connected layers\n",
    "    Flatten(),\n",
    "    Dense(128, activation='relu'),\n",
    "    Dropout(0.5),  # Regularization\n",
    "    Dense(10, activation='softmax')  # Output layer\n",
    "])"
   ]
  },
  {
   "cell_type": "code",
   "execution_count": 6,
   "id": "59a7fa6e",
   "metadata": {
    "execution": {
     "iopub.execute_input": "2025-02-10T21:14:06.529900Z",
     "iopub.status.busy": "2025-02-10T21:14:06.529483Z",
     "iopub.status.idle": "2025-02-10T21:14:06.544636Z",
     "shell.execute_reply": "2025-02-10T21:14:06.543461Z"
    },
    "papermill": {
     "duration": 0.024974,
     "end_time": "2025-02-10T21:14:06.546628",
     "exception": false,
     "start_time": "2025-02-10T21:14:06.521654",
     "status": "completed"
    },
    "tags": []
   },
   "outputs": [],
   "source": [
    "model.compile(optimizer='adam',\n",
    "              loss='categorical_crossentropy',\n",
    "              metrics=['accuracy'])"
   ]
  },
  {
   "cell_type": "code",
   "execution_count": 7,
   "id": "2d3aaf12",
   "metadata": {
    "execution": {
     "iopub.execute_input": "2025-02-10T21:14:06.561986Z",
     "iopub.status.busy": "2025-02-10T21:14:06.561572Z",
     "iopub.status.idle": "2025-02-10T21:19:38.005054Z",
     "shell.execute_reply": "2025-02-10T21:19:38.003815Z"
    },
    "papermill": {
     "duration": 331.453284,
     "end_time": "2025-02-10T21:19:38.006901",
     "exception": false,
     "start_time": "2025-02-10T21:14:06.553617",
     "status": "completed"
    },
    "tags": []
   },
   "outputs": [
    {
     "name": "stdout",
     "output_type": "stream",
     "text": [
      "Epoch 1/10\n",
      "\u001b[1m625/625\u001b[0m \u001b[32m━━━━━━━━━━━━━━━━━━━━\u001b[0m\u001b[37m\u001b[0m \u001b[1m30s\u001b[0m 45ms/step - accuracy: 0.2565 - loss: 1.9804 - val_accuracy: 0.4704 - val_loss: 1.4570\n",
      "Epoch 2/10\n",
      "\u001b[1m625/625\u001b[0m \u001b[32m━━━━━━━━━━━━━━━━━━━━\u001b[0m\u001b[37m\u001b[0m \u001b[1m27s\u001b[0m 43ms/step - accuracy: 0.4701 - loss: 1.4661 - val_accuracy: 0.5561 - val_loss: 1.2552\n",
      "Epoch 3/10\n",
      "\u001b[1m625/625\u001b[0m \u001b[32m━━━━━━━━━━━━━━━━━━━━\u001b[0m\u001b[37m\u001b[0m \u001b[1m27s\u001b[0m 44ms/step - accuracy: 0.5406 - loss: 1.2834 - val_accuracy: 0.6036 - val_loss: 1.1301\n",
      "Epoch 4/10\n",
      "\u001b[1m625/625\u001b[0m \u001b[32m━━━━━━━━━━━━━━━━━━━━\u001b[0m\u001b[37m\u001b[0m \u001b[1m27s\u001b[0m 43ms/step - accuracy: 0.5859 - loss: 1.1740 - val_accuracy: 0.6183 - val_loss: 1.0906\n",
      "Epoch 5/10\n",
      "\u001b[1m625/625\u001b[0m \u001b[32m━━━━━━━━━━━━━━━━━━━━\u001b[0m\u001b[37m\u001b[0m \u001b[1m26s\u001b[0m 42ms/step - accuracy: 0.6184 - loss: 1.0937 - val_accuracy: 0.6443 - val_loss: 1.0048\n",
      "Epoch 6/10\n",
      "\u001b[1m625/625\u001b[0m \u001b[32m━━━━━━━━━━━━━━━━━━━━\u001b[0m\u001b[37m\u001b[0m \u001b[1m42s\u001b[0m 44ms/step - accuracy: 0.6412 - loss: 1.0234 - val_accuracy: 0.6559 - val_loss: 0.9731\n",
      "Epoch 7/10\n",
      "\u001b[1m625/625\u001b[0m \u001b[32m━━━━━━━━━━━━━━━━━━━━\u001b[0m\u001b[37m\u001b[0m \u001b[1m41s\u001b[0m 43ms/step - accuracy: 0.6644 - loss: 0.9686 - val_accuracy: 0.6686 - val_loss: 0.9556\n",
      "Epoch 8/10\n",
      "\u001b[1m625/625\u001b[0m \u001b[32m━━━━━━━━━━━━━━━━━━━━\u001b[0m\u001b[37m\u001b[0m \u001b[1m41s\u001b[0m 43ms/step - accuracy: 0.6871 - loss: 0.9006 - val_accuracy: 0.6799 - val_loss: 0.9255\n",
      "Epoch 9/10\n",
      "\u001b[1m625/625\u001b[0m \u001b[32m━━━━━━━━━━━━━━━━━━━━\u001b[0m\u001b[37m\u001b[0m \u001b[1m27s\u001b[0m 43ms/step - accuracy: 0.6979 - loss: 0.8709 - val_accuracy: 0.6856 - val_loss: 0.8838\n",
      "Epoch 10/10\n",
      "\u001b[1m625/625\u001b[0m \u001b[32m━━━━━━━━━━━━━━━━━━━━\u001b[0m\u001b[37m\u001b[0m \u001b[1m41s\u001b[0m 43ms/step - accuracy: 0.7099 - loss: 0.8325 - val_accuracy: 0.6992 - val_loss: 0.8675\n"
     ]
    },
    {
     "data": {
      "text/plain": [
       "<keras.src.callbacks.history.History at 0x7853c5f8ded0>"
      ]
     },
     "execution_count": 7,
     "metadata": {},
     "output_type": "execute_result"
    }
   ],
   "source": [
    "#train the model\n",
    "model.fit(x_train, y_train, epochs=10, batch_size=64, validation_split=0.2)"
   ]
  },
  {
   "cell_type": "code",
   "execution_count": 8,
   "id": "c1fca71d",
   "metadata": {
    "execution": {
     "iopub.execute_input": "2025-02-10T21:19:38.421988Z",
     "iopub.status.busy": "2025-02-10T21:19:38.421560Z",
     "iopub.status.idle": "2025-02-10T21:19:41.284163Z",
     "shell.execute_reply": "2025-02-10T21:19:41.283049Z"
    },
    "papermill": {
     "duration": 3.073024,
     "end_time": "2025-02-10T21:19:41.285946",
     "exception": false,
     "start_time": "2025-02-10T21:19:38.212922",
     "status": "completed"
    },
    "tags": []
   },
   "outputs": [
    {
     "name": "stdout",
     "output_type": "stream",
     "text": [
      "\u001b[1m313/313\u001b[0m \u001b[32m━━━━━━━━━━━━━━━━━━━━\u001b[0m\u001b[37m\u001b[0m \u001b[1m3s\u001b[0m 8ms/step - accuracy: 0.6995 - loss: 0.8458\n",
      "test accuracy: 0.70\n"
     ]
    }
   ],
   "source": [
    "#evaluate\n",
    "test_loss, test_acc = model.evaluate(x_test, y_test)\n",
    "print(f\"test accuracy: {test_acc:.2f}\")"
   ]
  }
 ],
 "metadata": {
  "kaggle": {
   "accelerator": "none",
   "dataSources": [],
   "dockerImageVersionId": 30886,
   "isGpuEnabled": false,
   "isInternetEnabled": true,
   "language": "python",
   "sourceType": "notebook"
  },
  "kernelspec": {
   "display_name": "Python 3",
   "language": "python",
   "name": "python3"
  },
  "language_info": {
   "codemirror_mode": {
    "name": "ipython",
    "version": 3
   },
   "file_extension": ".py",
   "mimetype": "text/x-python",
   "name": "python",
   "nbconvert_exporter": "python",
   "pygments_lexer": "ipython3",
   "version": "3.10.12"
  },
  "papermill": {
   "default_parameters": {},
   "duration": 366.9652,
   "end_time": "2025-02-10T21:19:43.212733",
   "environment_variables": {},
   "exception": null,
   "input_path": "__notebook__.ipynb",
   "output_path": "__notebook__.ipynb",
   "parameters": {},
   "start_time": "2025-02-10T21:13:36.247533",
   "version": "2.6.0"
  }
 },
 "nbformat": 4,
 "nbformat_minor": 5
}
