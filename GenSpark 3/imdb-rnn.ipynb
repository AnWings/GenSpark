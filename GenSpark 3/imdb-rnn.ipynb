{
 "cells": [
  {
   "cell_type": "code",
   "execution_count": 1,
   "id": "729b6677",
   "metadata": {
    "_cell_guid": "b1076dfc-b9ad-4769-8c92-a6c4dae69d19",
    "_uuid": "8f2839f25d086af736a60e9eeb907d3b93b6e0e5",
    "execution": {
     "iopub.execute_input": "2025-02-11T17:27:32.976129Z",
     "iopub.status.busy": "2025-02-11T17:27:32.975616Z",
     "iopub.status.idle": "2025-02-11T17:27:51.632311Z",
     "shell.execute_reply": "2025-02-11T17:27:51.631103Z"
    },
    "papermill": {
     "duration": 18.663293,
     "end_time": "2025-02-11T17:27:51.634616",
     "exception": false,
     "start_time": "2025-02-11T17:27:32.971323",
     "status": "completed"
    },
    "tags": []
   },
   "outputs": [],
   "source": [
    "import tensorflow as tf\n",
    "from tensorflow.keras.datasets import imdb\n",
    "from tensorflow.keras.models import Sequential\n",
    "from tensorflow.keras.layers import Embedding, SimpleRNN, Dense\n",
    "from tensorflow.keras.preprocessing.sequence import pad_sequences"
   ]
  },
  {
   "cell_type": "code",
   "execution_count": 2,
   "id": "aa4cca98",
   "metadata": {
    "execution": {
     "iopub.execute_input": "2025-02-11T17:27:51.642354Z",
     "iopub.status.busy": "2025-02-11T17:27:51.641670Z",
     "iopub.status.idle": "2025-02-11T17:27:57.458239Z",
     "shell.execute_reply": "2025-02-11T17:27:57.456941Z"
    },
    "papermill": {
     "duration": 5.822266,
     "end_time": "2025-02-11T17:27:57.460259",
     "exception": false,
     "start_time": "2025-02-11T17:27:51.637993",
     "status": "completed"
    },
    "tags": []
   },
   "outputs": [
    {
     "name": "stdout",
     "output_type": "stream",
     "text": [
      "Downloading data from https://storage.googleapis.com/tensorflow/tf-keras-datasets/imdb.npz\n",
      "\u001b[1m17464789/17464789\u001b[0m \u001b[32m━━━━━━━━━━━━━━━━━━━━\u001b[0m\u001b[37m\u001b[0m \u001b[1m1s\u001b[0m 0us/step\n"
     ]
    }
   ],
   "source": [
    "vocab_size = 10000\n",
    "maxlen = 100\n",
    "\n",
    "(x_train, y_train), (x_test, y_test) = imdb.load_data(num_words=vocab_size)"
   ]
  },
  {
   "cell_type": "code",
   "execution_count": 3,
   "id": "208da01e",
   "metadata": {
    "execution": {
     "iopub.execute_input": "2025-02-11T17:27:57.470204Z",
     "iopub.status.busy": "2025-02-11T17:27:57.469784Z",
     "iopub.status.idle": "2025-02-11T17:27:58.037230Z",
     "shell.execute_reply": "2025-02-11T17:27:58.036124Z"
    },
    "papermill": {
     "duration": 0.57462,
     "end_time": "2025-02-11T17:27:58.039556",
     "exception": false,
     "start_time": "2025-02-11T17:27:57.464936",
     "status": "completed"
    },
    "tags": []
   },
   "outputs": [],
   "source": [
    "#Preprocess the Data\n",
    "x_train = pad_sequences(x_train, maxlen=maxlen)\n",
    "x_test = pad_sequences(x_test, maxlen=maxlen)"
   ]
  },
  {
   "cell_type": "code",
   "execution_count": 4,
   "id": "59c42b25",
   "metadata": {
    "execution": {
     "iopub.execute_input": "2025-02-11T17:27:58.048030Z",
     "iopub.status.busy": "2025-02-11T17:27:58.047647Z",
     "iopub.status.idle": "2025-02-11T17:27:58.098076Z",
     "shell.execute_reply": "2025-02-11T17:27:58.096840Z"
    },
    "papermill": {
     "duration": 0.057153,
     "end_time": "2025-02-11T17:27:58.100418",
     "exception": false,
     "start_time": "2025-02-11T17:27:58.043265",
     "status": "completed"
    },
    "tags": []
   },
   "outputs": [
    {
     "name": "stderr",
     "output_type": "stream",
     "text": [
      "/usr/local/lib/python3.10/dist-packages/keras/src/layers/core/embedding.py:90: UserWarning: Argument `input_length` is deprecated. Just remove it.\n",
      "  warnings.warn(\n"
     ]
    }
   ],
   "source": [
    "#model setup\n",
    "model = Sequential([\n",
    "    Embedding(vocab_size, 32, input_length=maxlen),\n",
    "    SimpleRNN(32, return_sequences=False),\n",
    "    Dense(1, activation='sigmoid')\n",
    "])"
   ]
  },
  {
   "cell_type": "code",
   "execution_count": 5,
   "id": "5f09eae4",
   "metadata": {
    "execution": {
     "iopub.execute_input": "2025-02-11T17:27:58.113420Z",
     "iopub.status.busy": "2025-02-11T17:27:58.112733Z",
     "iopub.status.idle": "2025-02-11T17:27:58.144137Z",
     "shell.execute_reply": "2025-02-11T17:27:58.142604Z"
    },
    "papermill": {
     "duration": 0.039536,
     "end_time": "2025-02-11T17:27:58.147022",
     "exception": false,
     "start_time": "2025-02-11T17:27:58.107486",
     "status": "completed"
    },
    "tags": []
   },
   "outputs": [],
   "source": [
    "#Compile the Model\n",
    "model.compile(optimizer='adam',\n",
    "              loss='binary_crossentropy',\n",
    "              metrics=['accuracy'])"
   ]
  },
  {
   "cell_type": "code",
   "execution_count": 6,
   "id": "416fa8b3",
   "metadata": {
    "execution": {
     "iopub.execute_input": "2025-02-11T17:27:58.162465Z",
     "iopub.status.busy": "2025-02-11T17:27:58.161881Z",
     "iopub.status.idle": "2025-02-11T17:34:56.106808Z",
     "shell.execute_reply": "2025-02-11T17:34:56.105463Z"
    },
    "papermill": {
     "duration": 417.956035,
     "end_time": "2025-02-11T17:34:56.109105",
     "exception": false,
     "start_time": "2025-02-11T17:27:58.153070",
     "status": "completed"
    },
    "tags": []
   },
   "outputs": [
    {
     "name": "stdout",
     "output_type": "stream",
     "text": [
      "Epoch 1/50\n",
      "\u001b[1m313/313\u001b[0m \u001b[32m━━━━━━━━━━━━━━━━━━━━\u001b[0m\u001b[37m\u001b[0m \u001b[1m11s\u001b[0m 28ms/step - accuracy: 0.6574 - loss: 0.5963 - val_accuracy: 0.8224 - val_loss: 0.3941\n",
      "Epoch 2/50\n",
      "\u001b[1m313/313\u001b[0m \u001b[32m━━━━━━━━━━━━━━━━━━━━\u001b[0m\u001b[37m\u001b[0m \u001b[1m8s\u001b[0m 26ms/step - accuracy: 0.8796 - loss: 0.3063 - val_accuracy: 0.8332 - val_loss: 0.4156\n",
      "Epoch 3/50\n",
      "\u001b[1m313/313\u001b[0m \u001b[32m━━━━━━━━━━━━━━━━━━━━\u001b[0m\u001b[37m\u001b[0m \u001b[1m8s\u001b[0m 27ms/step - accuracy: 0.9253 - loss: 0.2005 - val_accuracy: 0.8278 - val_loss: 0.4090\n",
      "Epoch 4/50\n",
      "\u001b[1m313/313\u001b[0m \u001b[32m━━━━━━━━━━━━━━━━━━━━\u001b[0m\u001b[37m\u001b[0m \u001b[1m8s\u001b[0m 26ms/step - accuracy: 0.9660 - loss: 0.1089 - val_accuracy: 0.8152 - val_loss: 0.5283\n",
      "Epoch 5/50\n",
      "\u001b[1m313/313\u001b[0m \u001b[32m━━━━━━━━━━━━━━━━━━━━\u001b[0m\u001b[37m\u001b[0m \u001b[1m8s\u001b[0m 26ms/step - accuracy: 0.9852 - loss: 0.0561 - val_accuracy: 0.8218 - val_loss: 0.5674\n",
      "Epoch 6/50\n",
      "\u001b[1m313/313\u001b[0m \u001b[32m━━━━━━━━━━━━━━━━━━━━\u001b[0m\u001b[37m\u001b[0m \u001b[1m8s\u001b[0m 26ms/step - accuracy: 0.9935 - loss: 0.0270 - val_accuracy: 0.7990 - val_loss: 0.6732\n",
      "Epoch 7/50\n",
      "\u001b[1m313/313\u001b[0m \u001b[32m━━━━━━━━━━━━━━━━━━━━\u001b[0m\u001b[37m\u001b[0m \u001b[1m8s\u001b[0m 26ms/step - accuracy: 0.9949 - loss: 0.0216 - val_accuracy: 0.8116 - val_loss: 0.7205\n",
      "Epoch 8/50\n",
      "\u001b[1m313/313\u001b[0m \u001b[32m━━━━━━━━━━━━━━━━━━━━\u001b[0m\u001b[37m\u001b[0m \u001b[1m8s\u001b[0m 27ms/step - accuracy: 0.9959 - loss: 0.0177 - val_accuracy: 0.7746 - val_loss: 0.8414\n",
      "Epoch 9/50\n",
      "\u001b[1m313/313\u001b[0m \u001b[32m━━━━━━━━━━━━━━━━━━━━\u001b[0m\u001b[37m\u001b[0m \u001b[1m8s\u001b[0m 26ms/step - accuracy: 0.9984 - loss: 0.0081 - val_accuracy: 0.7990 - val_loss: 0.8163\n",
      "Epoch 10/50\n",
      "\u001b[1m313/313\u001b[0m \u001b[32m━━━━━━━━━━━━━━━━━━━━\u001b[0m\u001b[37m\u001b[0m \u001b[1m8s\u001b[0m 26ms/step - accuracy: 0.9974 - loss: 0.0104 - val_accuracy: 0.8112 - val_loss: 0.9656\n",
      "Epoch 11/50\n",
      "\u001b[1m313/313\u001b[0m \u001b[32m━━━━━━━━━━━━━━━━━━━━\u001b[0m\u001b[37m\u001b[0m \u001b[1m8s\u001b[0m 26ms/step - accuracy: 0.9881 - loss: 0.0363 - val_accuracy: 0.7844 - val_loss: 0.9434\n",
      "Epoch 12/50\n",
      "\u001b[1m313/313\u001b[0m \u001b[32m━━━━━━━━━━━━━━━━━━━━\u001b[0m\u001b[37m\u001b[0m \u001b[1m8s\u001b[0m 27ms/step - accuracy: 0.9959 - loss: 0.0139 - val_accuracy: 0.8140 - val_loss: 0.9296\n",
      "Epoch 13/50\n",
      "\u001b[1m313/313\u001b[0m \u001b[32m━━━━━━━━━━━━━━━━━━━━\u001b[0m\u001b[37m\u001b[0m \u001b[1m8s\u001b[0m 26ms/step - accuracy: 0.9956 - loss: 0.0155 - val_accuracy: 0.7904 - val_loss: 0.9737\n",
      "Epoch 14/50\n",
      "\u001b[1m313/313\u001b[0m \u001b[32m━━━━━━━━━━━━━━━━━━━━\u001b[0m\u001b[37m\u001b[0m \u001b[1m8s\u001b[0m 26ms/step - accuracy: 0.9991 - loss: 0.0032 - val_accuracy: 0.8126 - val_loss: 1.0151\n",
      "Epoch 15/50\n",
      "\u001b[1m313/313\u001b[0m \u001b[32m━━━━━━━━━━━━━━━━━━━━\u001b[0m\u001b[37m\u001b[0m \u001b[1m9s\u001b[0m 27ms/step - accuracy: 1.0000 - loss: 5.8457e-04 - val_accuracy: 0.8100 - val_loss: 1.0546\n",
      "Epoch 16/50\n",
      "\u001b[1m313/313\u001b[0m \u001b[32m━━━━━━━━━━━━━━━━━━━━\u001b[0m\u001b[37m\u001b[0m \u001b[1m9s\u001b[0m 27ms/step - accuracy: 1.0000 - loss: 3.0007e-04 - val_accuracy: 0.8090 - val_loss: 1.0839\n",
      "Epoch 17/50\n",
      "\u001b[1m313/313\u001b[0m \u001b[32m━━━━━━━━━━━━━━━━━━━━\u001b[0m\u001b[37m\u001b[0m \u001b[1m9s\u001b[0m 28ms/step - accuracy: 1.0000 - loss: 2.1576e-04 - val_accuracy: 0.8112 - val_loss: 1.1134\n",
      "Epoch 18/50\n",
      "\u001b[1m313/313\u001b[0m \u001b[32m━━━━━━━━━━━━━━━━━━━━\u001b[0m\u001b[37m\u001b[0m \u001b[1m8s\u001b[0m 26ms/step - accuracy: 1.0000 - loss: 1.6857e-04 - val_accuracy: 0.8076 - val_loss: 1.1331\n",
      "Epoch 19/50\n",
      "\u001b[1m313/313\u001b[0m \u001b[32m━━━━━━━━━━━━━━━━━━━━\u001b[0m\u001b[37m\u001b[0m \u001b[1m8s\u001b[0m 26ms/step - accuracy: 1.0000 - loss: 1.3679e-04 - val_accuracy: 0.8132 - val_loss: 1.1626\n",
      "Epoch 20/50\n",
      "\u001b[1m313/313\u001b[0m \u001b[32m━━━━━━━━━━━━━━━━━━━━\u001b[0m\u001b[37m\u001b[0m \u001b[1m8s\u001b[0m 27ms/step - accuracy: 1.0000 - loss: 1.0234e-04 - val_accuracy: 0.8130 - val_loss: 1.1797\n",
      "Epoch 21/50\n",
      "\u001b[1m313/313\u001b[0m \u001b[32m━━━━━━━━━━━━━━━━━━━━\u001b[0m\u001b[37m\u001b[0m \u001b[1m8s\u001b[0m 26ms/step - accuracy: 1.0000 - loss: 8.8409e-05 - val_accuracy: 0.8102 - val_loss: 1.2000\n",
      "Epoch 22/50\n",
      "\u001b[1m313/313\u001b[0m \u001b[32m━━━━━━━━━━━━━━━━━━━━\u001b[0m\u001b[37m\u001b[0m \u001b[1m8s\u001b[0m 26ms/step - accuracy: 1.0000 - loss: 7.0019e-05 - val_accuracy: 0.8146 - val_loss: 1.2227\n",
      "Epoch 23/50\n",
      "\u001b[1m313/313\u001b[0m \u001b[32m━━━━━━━━━━━━━━━━━━━━\u001b[0m\u001b[37m\u001b[0m \u001b[1m8s\u001b[0m 26ms/step - accuracy: 1.0000 - loss: 5.7410e-05 - val_accuracy: 0.8122 - val_loss: 1.2377\n",
      "Epoch 24/50\n",
      "\u001b[1m313/313\u001b[0m \u001b[32m━━━━━━━━━━━━━━━━━━━━\u001b[0m\u001b[37m\u001b[0m \u001b[1m9s\u001b[0m 27ms/step - accuracy: 1.0000 - loss: 4.7619e-05 - val_accuracy: 0.8136 - val_loss: 1.2577\n",
      "Epoch 25/50\n",
      "\u001b[1m313/313\u001b[0m \u001b[32m━━━━━━━━━━━━━━━━━━━━\u001b[0m\u001b[37m\u001b[0m \u001b[1m8s\u001b[0m 26ms/step - accuracy: 1.0000 - loss: 4.0826e-05 - val_accuracy: 0.8134 - val_loss: 1.2767\n",
      "Epoch 26/50\n",
      "\u001b[1m313/313\u001b[0m \u001b[32m━━━━━━━━━━━━━━━━━━━━\u001b[0m\u001b[37m\u001b[0m \u001b[1m8s\u001b[0m 27ms/step - accuracy: 1.0000 - loss: 3.2513e-05 - val_accuracy: 0.8118 - val_loss: 1.2959\n",
      "Epoch 27/50\n",
      "\u001b[1m313/313\u001b[0m \u001b[32m━━━━━━━━━━━━━━━━━━━━\u001b[0m\u001b[37m\u001b[0m \u001b[1m8s\u001b[0m 27ms/step - accuracy: 1.0000 - loss: 2.9198e-05 - val_accuracy: 0.8144 - val_loss: 1.3157\n",
      "Epoch 28/50\n",
      "\u001b[1m313/313\u001b[0m \u001b[32m━━━━━━━━━━━━━━━━━━━━\u001b[0m\u001b[37m\u001b[0m \u001b[1m9s\u001b[0m 28ms/step - accuracy: 1.0000 - loss: 2.2874e-05 - val_accuracy: 0.8128 - val_loss: 1.3310\n",
      "Epoch 29/50\n",
      "\u001b[1m313/313\u001b[0m \u001b[32m━━━━━━━━━━━━━━━━━━━━\u001b[0m\u001b[37m\u001b[0m \u001b[1m8s\u001b[0m 27ms/step - accuracy: 1.0000 - loss: 1.9370e-05 - val_accuracy: 0.8136 - val_loss: 1.3539\n",
      "Epoch 30/50\n",
      "\u001b[1m313/313\u001b[0m \u001b[32m━━━━━━━━━━━━━━━━━━━━\u001b[0m\u001b[37m\u001b[0m \u001b[1m8s\u001b[0m 26ms/step - accuracy: 1.0000 - loss: 1.6223e-05 - val_accuracy: 0.8142 - val_loss: 1.3710\n",
      "Epoch 31/50\n",
      "\u001b[1m313/313\u001b[0m \u001b[32m━━━━━━━━━━━━━━━━━━━━\u001b[0m\u001b[37m\u001b[0m \u001b[1m8s\u001b[0m 26ms/step - accuracy: 1.0000 - loss: 1.4450e-05 - val_accuracy: 0.8140 - val_loss: 1.3912\n",
      "Epoch 32/50\n",
      "\u001b[1m313/313\u001b[0m \u001b[32m━━━━━━━━━━━━━━━━━━━━\u001b[0m\u001b[37m\u001b[0m \u001b[1m9s\u001b[0m 27ms/step - accuracy: 1.0000 - loss: 1.1769e-05 - val_accuracy: 0.8146 - val_loss: 1.4101\n",
      "Epoch 33/50\n",
      "\u001b[1m313/313\u001b[0m \u001b[32m━━━━━━━━━━━━━━━━━━━━\u001b[0m\u001b[37m\u001b[0m \u001b[1m8s\u001b[0m 26ms/step - accuracy: 1.0000 - loss: 9.7657e-06 - val_accuracy: 0.8146 - val_loss: 1.4241\n",
      "Epoch 34/50\n",
      "\u001b[1m313/313\u001b[0m \u001b[32m━━━━━━━━━━━━━━━━━━━━\u001b[0m\u001b[37m\u001b[0m \u001b[1m8s\u001b[0m 26ms/step - accuracy: 1.0000 - loss: 8.4805e-06 - val_accuracy: 0.8148 - val_loss: 1.4463\n",
      "Epoch 35/50\n",
      "\u001b[1m313/313\u001b[0m \u001b[32m━━━━━━━━━━━━━━━━━━━━\u001b[0m\u001b[37m\u001b[0m \u001b[1m8s\u001b[0m 26ms/step - accuracy: 1.0000 - loss: 7.1762e-06 - val_accuracy: 0.8150 - val_loss: 1.4650\n",
      "Epoch 36/50\n",
      "\u001b[1m313/313\u001b[0m \u001b[32m━━━━━━━━━━━━━━━━━━━━\u001b[0m\u001b[37m\u001b[0m \u001b[1m9s\u001b[0m 27ms/step - accuracy: 1.0000 - loss: 5.9701e-06 - val_accuracy: 0.8158 - val_loss: 1.4841\n",
      "Epoch 37/50\n",
      "\u001b[1m313/313\u001b[0m \u001b[32m━━━━━━━━━━━━━━━━━━━━\u001b[0m\u001b[37m\u001b[0m \u001b[1m8s\u001b[0m 26ms/step - accuracy: 1.0000 - loss: 5.0694e-06 - val_accuracy: 0.8160 - val_loss: 1.5049\n",
      "Epoch 38/50\n",
      "\u001b[1m313/313\u001b[0m \u001b[32m━━━━━━━━━━━━━━━━━━━━\u001b[0m\u001b[37m\u001b[0m \u001b[1m8s\u001b[0m 26ms/step - accuracy: 1.0000 - loss: 4.1955e-06 - val_accuracy: 0.8154 - val_loss: 1.5219\n",
      "Epoch 39/50\n",
      "\u001b[1m313/313\u001b[0m \u001b[32m━━━━━━━━━━━━━━━━━━━━\u001b[0m\u001b[37m\u001b[0m \u001b[1m8s\u001b[0m 26ms/step - accuracy: 1.0000 - loss: 3.4680e-06 - val_accuracy: 0.8162 - val_loss: 1.5395\n",
      "Epoch 40/50\n",
      "\u001b[1m313/313\u001b[0m \u001b[32m━━━━━━━━━━━━━━━━━━━━\u001b[0m\u001b[37m\u001b[0m \u001b[1m9s\u001b[0m 27ms/step - accuracy: 1.0000 - loss: 3.0294e-06 - val_accuracy: 0.8160 - val_loss: 1.5604\n",
      "Epoch 41/50\n",
      "\u001b[1m313/313\u001b[0m \u001b[32m━━━━━━━━━━━━━━━━━━━━\u001b[0m\u001b[37m\u001b[0m \u001b[1m8s\u001b[0m 26ms/step - accuracy: 1.0000 - loss: 2.6123e-06 - val_accuracy: 0.8160 - val_loss: 1.5786\n",
      "Epoch 42/50\n",
      "\u001b[1m313/313\u001b[0m \u001b[32m━━━━━━━━━━━━━━━━━━━━\u001b[0m\u001b[37m\u001b[0m \u001b[1m8s\u001b[0m 26ms/step - accuracy: 1.0000 - loss: 2.1935e-06 - val_accuracy: 0.8170 - val_loss: 1.5966\n",
      "Epoch 43/50\n",
      "\u001b[1m313/313\u001b[0m \u001b[32m━━━━━━━━━━━━━━━━━━━━\u001b[0m\u001b[37m\u001b[0m \u001b[1m8s\u001b[0m 26ms/step - accuracy: 1.0000 - loss: 1.9021e-06 - val_accuracy: 0.8170 - val_loss: 1.6198\n",
      "Epoch 44/50\n",
      "\u001b[1m313/313\u001b[0m \u001b[32m━━━━━━━━━━━━━━━━━━━━\u001b[0m\u001b[37m\u001b[0m \u001b[1m8s\u001b[0m 27ms/step - accuracy: 1.0000 - loss: 1.5539e-06 - val_accuracy: 0.8168 - val_loss: 1.6359\n",
      "Epoch 45/50\n",
      "\u001b[1m313/313\u001b[0m \u001b[32m━━━━━━━━━━━━━━━━━━━━\u001b[0m\u001b[37m\u001b[0m \u001b[1m8s\u001b[0m 26ms/step - accuracy: 1.0000 - loss: 1.3589e-06 - val_accuracy: 0.8170 - val_loss: 1.6541\n",
      "Epoch 46/50\n",
      "\u001b[1m313/313\u001b[0m \u001b[32m━━━━━━━━━━━━━━━━━━━━\u001b[0m\u001b[37m\u001b[0m \u001b[1m8s\u001b[0m 26ms/step - accuracy: 1.0000 - loss: 1.0977e-06 - val_accuracy: 0.8174 - val_loss: 1.6740\n",
      "Epoch 47/50\n",
      "\u001b[1m313/313\u001b[0m \u001b[32m━━━━━━━━━━━━━━━━━━━━\u001b[0m\u001b[37m\u001b[0m \u001b[1m8s\u001b[0m 26ms/step - accuracy: 1.0000 - loss: 9.6391e-07 - val_accuracy: 0.8164 - val_loss: 1.6946\n",
      "Epoch 48/50\n",
      "\u001b[1m313/313\u001b[0m \u001b[32m━━━━━━━━━━━━━━━━━━━━\u001b[0m\u001b[37m\u001b[0m \u001b[1m8s\u001b[0m 27ms/step - accuracy: 1.0000 - loss: 8.1350e-07 - val_accuracy: 0.8164 - val_loss: 1.7121\n",
      "Epoch 49/50\n",
      "\u001b[1m313/313\u001b[0m \u001b[32m━━━━━━━━━━━━━━━━━━━━\u001b[0m\u001b[37m\u001b[0m \u001b[1m8s\u001b[0m 26ms/step - accuracy: 1.0000 - loss: 6.7231e-07 - val_accuracy: 0.8170 - val_loss: 1.7261\n",
      "Epoch 50/50\n",
      "\u001b[1m313/313\u001b[0m \u001b[32m━━━━━━━━━━━━━━━━━━━━\u001b[0m\u001b[37m\u001b[0m \u001b[1m8s\u001b[0m 26ms/step - accuracy: 1.0000 - loss: 5.7574e-07 - val_accuracy: 0.8170 - val_loss: 1.7538\n"
     ]
    }
   ],
   "source": [
    "#Train the Model\n",
    "history = model.fit(x_train, y_train, epochs=50, batch_size=64, validation_split=0.2)"
   ]
  },
  {
   "cell_type": "code",
   "execution_count": 7,
   "id": "4945b685",
   "metadata": {
    "execution": {
     "iopub.execute_input": "2025-02-11T17:34:56.816006Z",
     "iopub.status.busy": "2025-02-11T17:34:56.815396Z",
     "iopub.status.idle": "2025-02-11T17:35:02.298078Z",
     "shell.execute_reply": "2025-02-11T17:35:02.296378Z"
    },
    "papermill": {
     "duration": 5.838886,
     "end_time": "2025-02-11T17:35:02.300049",
     "exception": false,
     "start_time": "2025-02-11T17:34:56.461163",
     "status": "completed"
    },
    "tags": []
   },
   "outputs": [
    {
     "name": "stdout",
     "output_type": "stream",
     "text": [
      "\u001b[1m782/782\u001b[0m \u001b[32m━━━━━━━━━━━━━━━━━━━━\u001b[0m\u001b[37m\u001b[0m \u001b[1m5s\u001b[0m 7ms/step - accuracy: 0.8104 - loss: 1.7512\n",
      "Test Accuracy: 81.32%\n",
      "\u001b[1m1/1\u001b[0m \u001b[32m━━━━━━━━━━━━━━━━━━━━\u001b[0m\u001b[37m\u001b[0m \u001b[1m0s\u001b[0m 172ms/step\n",
      "Predicted Sentiment: Negative\n"
     ]
    }
   ],
   "source": [
    "#Evaluate the Model\n",
    "test_loss, test_accuracy = model.evaluate(x_test, y_test)\n",
    "print(f\"Test Accuracy: {test_accuracy * 100:.2f}%\")\n",
    "\n",
    "#Make Predictions\n",
    "sample_review = x_test[0].reshape(1, -1)  # Take the first test review as an example\n",
    "prediction = model.predict(sample_review)\n",
    "print(f\"Predicted Sentiment: {'Positive' if prediction[0][0] > 0.5 else 'Negative'}\")"
   ]
  }
 ],
 "metadata": {
  "kaggle": {
   "accelerator": "none",
   "dataSources": [],
   "dockerImageVersionId": 30886,
   "isGpuEnabled": false,
   "isInternetEnabled": true,
   "language": "python",
   "sourceType": "notebook"
  },
  "kernelspec": {
   "display_name": "Python 3",
   "language": "python",
   "name": "python3"
  },
  "language_info": {
   "codemirror_mode": {
    "name": "ipython",
    "version": 3
   },
   "file_extension": ".py",
   "mimetype": "text/x-python",
   "name": "python",
   "nbconvert_exporter": "python",
   "pygments_lexer": "ipython3",
   "version": "3.10.12"
  },
  "papermill": {
   "default_parameters": {},
   "duration": 454.437674,
   "end_time": "2025-02-11T17:35:04.452774",
   "environment_variables": {},
   "exception": null,
   "input_path": "__notebook__.ipynb",
   "output_path": "__notebook__.ipynb",
   "parameters": {},
   "start_time": "2025-02-11T17:27:30.015100",
   "version": "2.6.0"
  }
 },
 "nbformat": 4,
 "nbformat_minor": 5
}
